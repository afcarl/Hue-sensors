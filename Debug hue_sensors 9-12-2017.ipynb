{
 "cells": [
  {
   "cell_type": "code",
   "execution_count": 1,
   "metadata": {},
   "outputs": [],
   "source": [
    "import hue_sensors as hs"
   ]
  },
  {
   "cell_type": "code",
   "execution_count": 2,
   "metadata": {},
   "outputs": [
    {
     "data": {
      "text/plain": [
       "1.2"
      ]
     },
     "execution_count": 2,
     "metadata": {},
     "output_type": "execute_result"
    }
   ],
   "source": [
    "hs.__version__"
   ]
  },
  {
   "cell_type": "code",
   "execution_count": 3,
   "metadata": {},
   "outputs": [],
   "source": [
    "url = hs.load_url('/Users/robincole/Desktop/Hue_url.json')"
   ]
  },
  {
   "cell_type": "code",
   "execution_count": 4,
   "metadata": {},
   "outputs": [],
   "source": [
    "response = hs.get_response_from_url(url)"
   ]
  },
  {
   "cell_type": "code",
   "execution_count": 5,
   "metadata": {},
   "outputs": [],
   "source": [
    "data = hs.parse_hue_api_response(response)"
   ]
  },
  {
   "cell_type": "code",
   "execution_count": 6,
   "metadata": {},
   "outputs": [
    {
     "data": {
      "text/plain": [
       "{'Geofence': {'model': 'GEO', 'name': 'Robins iPhone', 'state': 'on'},\n",
       " 'RWL_1e-02': {'battery': 100,\n",
       "  'last_updated': ['2017-12-09', '07:13:54'],\n",
       "  'model': 'RWL',\n",
       "  'name': 'Living room remote',\n",
       "  'state': '2_click'},\n",
       " 'RWL_9c-02': {'battery': 100,\n",
       "  'last_updated': ['2017-12-08', '09:16:58'],\n",
       "  'model': 'RWL',\n",
       "  'name': 'Hall remote',\n",
       "  'state': '1_hold'},\n",
       " 'RWL_dc-02': {'battery': 100,\n",
       "  'last_updated': ['2017-12-08', '18:06:30'],\n",
       "  'model': 'RWL',\n",
       "  'name': 'Remote bedroom',\n",
       "  'state': '4_click'},\n",
       " 'SML_28-02': {'battery': 100,\n",
       "  'dark': True,\n",
       "  'daylight': False,\n",
       "  'last_updated': ['2017-12-09', '05:39:49'],\n",
       "  'light_level': 0,\n",
       "  'lux': 1.0,\n",
       "  'model': 'SML',\n",
       "  'name': 'Hall motion Sensor',\n",
       "  'state': 'off',\n",
       "  'temperature': 15.89},\n",
       " 'SML_9c-02': {'battery': 100,\n",
       "  'dark': True,\n",
       "  'daylight': False,\n",
       "  'last_updated': ['2017-12-09', '07:14:27'],\n",
       "  'light_level': 0,\n",
       "  'lux': 1.0,\n",
       "  'model': 'SML',\n",
       "  'name': 'Living room motion sensor',\n",
       "  'state': 'on',\n",
       "  'temperature': 18.28},\n",
       " 'SML_ce-02': {'battery': 100,\n",
       "  'dark': True,\n",
       "  'daylight': False,\n",
       "  'last_updated': ['2017-12-09', '05:36:42'],\n",
       "  'light_level': 0,\n",
       "  'lux': 1.0,\n",
       "  'model': 'SML',\n",
       "  'name': 'Bedroom motion sensor',\n",
       "  'state': 'off',\n",
       "  'temperature': 17.06},\n",
       " 'ZGP_08-f2': {'last_updated': ['2017-12-09', '07:14:38'],\n",
       "  'model': 'ZPG',\n",
       "  'name': 'Hue Tap',\n",
       "  'state': '1_click'}}"
      ]
     },
     "execution_count": 6,
     "metadata": {},
     "output_type": "execute_result"
    }
   ],
   "source": [
    "data"
   ]
  },
  {
   "cell_type": "code",
   "execution_count": null,
   "metadata": {},
   "outputs": [],
   "source": []
  }
 ],
 "metadata": {
  "kernelspec": {
   "display_name": "Python 3",
   "language": "python",
   "name": "python3"
  },
  "language_info": {
   "codemirror_mode": {
    "name": "ipython",
    "version": 3
   },
   "file_extension": ".py",
   "mimetype": "text/x-python",
   "name": "python",
   "nbconvert_exporter": "python",
   "pygments_lexer": "ipython3",
   "version": "3.6.3"
  }
 },
 "nbformat": 4,
 "nbformat_minor": 2
}
