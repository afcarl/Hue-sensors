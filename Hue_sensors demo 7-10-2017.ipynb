{
 "cells": [
  {
   "cell_type": "code",
   "execution_count": 1,
   "metadata": {
    "collapsed": true
   },
   "outputs": [],
   "source": [
    "from hue_sensors import (\n",
    "    load_url, print_json, parse_hue_api_response, get_response_from_url,\n",
    "    save_response)"
   ]
  },
  {
   "cell_type": "markdown",
   "metadata": {},
   "source": [
    "First load the URL, in my case I am loading from a json doc on my desktop. This keeps my API key secret."
   ]
  },
  {
   "cell_type": "code",
   "execution_count": 2,
   "metadata": {
    "collapsed": true
   },
   "outputs": [],
   "source": [
    "filename = '/Users/robincole/Desktop/Hue_url.json'\n",
    "URL = load_url(filename)    # base URL of the remote, ending /sensors"
   ]
  },
  {
   "cell_type": "markdown",
   "metadata": {},
   "source": [
    "URL = 'http://192.168.0.3/api/my_key/sensors'"
   ]
  },
  {
   "cell_type": "markdown",
   "metadata": {},
   "source": [
    "Fetch the response (raw data) from this URL"
   ]
  },
  {
   "cell_type": "code",
   "execution_count": 3,
   "metadata": {
    "collapsed": true
   },
   "outputs": [],
   "source": [
    "response = get_response_from_url(URL)"
   ]
  },
  {
   "cell_type": "markdown",
   "metadata": {},
   "source": [
    "Pretty print the json"
   ]
  },
  {
   "cell_type": "code",
   "execution_count": 4,
   "metadata": {},
   "outputs": [
    {
     "name": "stdout",
     "output_type": "stream",
     "text": [
      "{'1': {'config': {'configured': True,\n",
      "                  'on': True,\n",
      "                  'sunriseoffset': 30,\n",
      "                  'sunsetoffset': -30},\n",
      "       'manufacturername': 'Philips',\n",
      "       'modelid': 'PHDL00',\n",
      "       'name': 'Daylight',\n",
      "       'state': {'daylight': True, 'lastupdated': '2017-10-07T06:42:00'},\n",
      "       'swversion': '1.0',\n",
      "       'type': 'Daylight'},\n",
      " '10': {'config': {'alert': 'none',\n",
      "                   'battery': 100,\n",
      "                   'ledindication': False,\n",
      "                   'on': True,\n",
      "                   'pending': [],\n",
      "                   'reachable': True,\n",
      "                   'tholddark': 12853,\n",
      "                   'tholdoffset': 7000,\n",
      "                   'usertest': False},\n",
      "        'manufacturername': 'Philips',\n",
      "        'modelid': 'SML001',\n",
      "        'name': 'Hue ambient light sensor 2',\n",
      "        'state': {'dark': True,\n",
      "                  'daylight': False,\n",
      "                  'lastupdated': '2017-10-07T07:13:37',\n",
      "                  'lightlevel': 4895},\n",
      "        'swupdate': {'lastinstall': None, 'state': 'noupdates'},\n",
      "        'swversion': '6.1.0.18912',\n",
      "        'type': 'ZLLLightLevel',\n",
      "        'uniqueid': '00:17:88:01:02:00:b5:ce-02-0400'},\n",
      " '11': {'config': {'on': True, 'reachable': True},\n",
      "        'manufacturername': 'Philips',\n",
      "        'modelid': 'PHA_STATE',\n",
      "        'name': 'MotionSensor 9.Companion',\n",
      "        'recycle': True,\n",
      "        'state': {'lastupdated': '2017-10-07T07:08:50', 'status': 0},\n",
      "        'swversion': '1.0',\n",
      "        'type': 'CLIPGenericStatus',\n",
      "        'uniqueid': 'MotionSensor 9.Companion'},\n",
      " '12': {'config': {'on': True, 'reachable': True},\n",
      "        'manufacturername': 'Philips',\n",
      "        'modelid': 'HA_GEOFENCE',\n",
      "        'name': 'Robins iPhone',\n",
      "        'recycle': False,\n",
      "        'state': {'lastupdated': '2017-10-06T19:20:28', 'presence': True},\n",
      "        'swversion': 'A_1',\n",
      "        'type': 'Geofence',\n",
      "        'uniqueid': 'L_02_IYwHM'},\n",
      " '13': {'config': {'on': True, 'reachable': True},\n",
      "        'manufacturername': 'Philips',\n",
      "        'modelid': 'HOMEAWAY',\n",
      "        'name': 'HomeAway',\n",
      "        'recycle': False,\n",
      "        'state': {'lastupdated': '2017-10-06T19:20:28', 'presence': True},\n",
      "        'swversion': 'A_1',\n",
      "        'type': 'CLIPPresence',\n",
      "        'uniqueid': 'L_01_9rQ8A'},\n",
      " '14': {'config': {'alert': 'none',\n",
      "                   'battery': 100,\n",
      "                   'ledindication': False,\n",
      "                   'on': True,\n",
      "                   'pending': [],\n",
      "                   'reachable': True,\n",
      "                   'usertest': False},\n",
      "        'manufacturername': 'Philips',\n",
      "        'modelid': 'SML001',\n",
      "        'name': 'Hue temperature sensor 3',\n",
      "        'state': {'lastupdated': '2017-10-07T07:14:20', 'temperature': 2138},\n",
      "        'swupdate': {'lastinstall': None, 'state': 'noupdates'},\n",
      "        'swversion': '6.1.0.18912',\n",
      "        'type': 'ZLLTemperature',\n",
      "        'uniqueid': '00:17:88:01:02:01:aa:9c-02-0402'},\n",
      " '15': {'config': {'alert': 'none',\n",
      "                   'battery': 100,\n",
      "                   'ledindication': False,\n",
      "                   'on': True,\n",
      "                   'pending': [],\n",
      "                   'reachable': True,\n",
      "                   'sensitivity': 2,\n",
      "                   'sensitivitymax': 2,\n",
      "                   'usertest': False},\n",
      "        'manufacturername': 'Philips',\n",
      "        'modelid': 'SML001',\n",
      "        'name': 'Living room sensor',\n",
      "        'state': {'lastupdated': '2017-10-07T07:13:19', 'presence': False},\n",
      "        'swupdate': {'lastinstall': None, 'state': 'noupdates'},\n",
      "        'swversion': '6.1.0.18912',\n",
      "        'type': 'ZLLPresence',\n",
      "        'uniqueid': '00:17:88:01:02:01:aa:9c-02-0406'},\n",
      " '16': {'config': {'alert': 'none',\n",
      "                   'battery': 100,\n",
      "                   'ledindication': False,\n",
      "                   'on': True,\n",
      "                   'pending': [],\n",
      "                   'reachable': True,\n",
      "                   'tholddark': 16000,\n",
      "                   'tholdoffset': 7000,\n",
      "                   'usertest': False},\n",
      "        'manufacturername': 'Philips',\n",
      "        'modelid': 'SML001',\n",
      "        'name': 'Hue ambient light sensor 3',\n",
      "        'state': {'dark': True,\n",
      "                  'daylight': False,\n",
      "                  'lastupdated': '2017-10-07T07:12:50',\n",
      "                  'lightlevel': 7144},\n",
      "        'swupdate': {'lastinstall': None, 'state': 'noupdates'},\n",
      "        'swversion': '6.1.0.18912',\n",
      "        'type': 'ZLLLightLevel',\n",
      "        'uniqueid': '00:17:88:01:02:01:aa:9c-02-0400'},\n",
      " '18': {'config': {'on': True, 'reachable': True},\n",
      "        'manufacturername': 'Philips',\n",
      "        'modelid': 'PHA_STATE',\n",
      "        'name': 'MotionSensor 15.Companion',\n",
      "        'recycle': True,\n",
      "        'state': {'lastupdated': '2017-10-07T07:13:19', 'status': 0},\n",
      "        'swversion': '1.0',\n",
      "        'type': 'CLIPGenericStatus',\n",
      "        'uniqueid': 'MotionSensor 15.Companion'},\n",
      " '2': {'config': {'battery': 100, 'on': True, 'pending': [], 'reachable': True},\n",
      "       'manufacturername': 'Philips',\n",
      "       'modelid': 'RWL021',\n",
      "       'name': 'Remote bedroom',\n",
      "       'state': {'buttonevent': 4002, 'lastupdated': '2017-10-07T07:08:37'},\n",
      "       'swupdate': {'lastinstall': None, 'state': 'noupdates'},\n",
      "       'swversion': '5.45.1.16265',\n",
      "       'type': 'ZLLSwitch',\n",
      "       'uniqueid': '00:17:88:01:10:3e:3a:dc-02-fc00'},\n",
      " '20': {'config': {'battery': 100,\n",
      "                   'on': True,\n",
      "                   'pending': [],\n",
      "                   'reachable': True},\n",
      "        'manufacturername': 'Philips',\n",
      "        'modelid': 'RWL021',\n",
      "        'name': 'Living room remote',\n",
      "        'state': {'buttonevent': 2002, 'lastupdated': '2017-10-07T06:30:28'},\n",
      "        'swupdate': {'lastinstall': None, 'state': 'noupdates'},\n",
      "        'swversion': '5.45.1.17846',\n",
      "        'type': 'ZLLSwitch',\n",
      "        'uniqueid': '00:17:88:01:02:e2:47:1e-02-fc00'},\n",
      " '21': {'config': {'on': True, 'reachable': True},\n",
      "        'manufacturername': 'Philips',\n",
      "        'modelid': 'PHWA01',\n",
      "        'name': 'Dimmer Switch 20 SceneCycle',\n",
      "        'recycle': True,\n",
      "        'state': {'lastupdated': '2017-10-06T21:29:14', 'status': 0},\n",
      "        'swversion': '1.0',\n",
      "        'type': 'CLIPGenericStatus',\n",
      "        'uniqueid': 'WA0001'},\n",
      " '22': {'config': {'battery': 100,\n",
      "                   'on': True,\n",
      "                   'pending': [],\n",
      "                   'reachable': True},\n",
      "        'manufacturername': 'Philips',\n",
      "        'modelid': 'RWL021',\n",
      "        'name': 'Hall remote',\n",
      "        'state': {'buttonevent': 1003, 'lastupdated': '2017-10-04T06:04:54'},\n",
      "        'swupdate': {'lastinstall': None, 'state': 'noupdates'},\n",
      "        'swversion': '5.45.1.17846',\n",
      "        'type': 'ZLLSwitch',\n",
      "        'uniqueid': '00:17:88:01:02:c0:e1:9c-02-fc00'},\n",
      " '23': {'config': {'on': True, 'reachable': True},\n",
      "        'manufacturername': 'Philips',\n",
      "        'modelid': 'PHWA01',\n",
      "        'name': 'Dimmer Switch 22 SceneCycle',\n",
      "        'recycle': True,\n",
      "        'state': {'lastupdated': '2017-10-04T06:04:52', 'status': 1},\n",
      "        'swversion': '1.0',\n",
      "        'type': 'CLIPGenericStatus',\n",
      "        'uniqueid': 'WA0001'},\n",
      " '3': {'config': {'on': True, 'reachable': True},\n",
      "       'manufacturername': 'Philips',\n",
      "       'modelid': 'PHWA01',\n",
      "       'name': 'Dimmer Switch 2 SceneCycle',\n",
      "       'recycle': True,\n",
      "       'state': {'lastupdated': '2017-10-07T07:08:47', 'status': 0},\n",
      "       'swversion': '1.0',\n",
      "       'type': 'CLIPGenericStatus',\n",
      "       'uniqueid': 'WA0001'},\n",
      " '4': {'config': {'alert': 'none',\n",
      "                  'battery': 100,\n",
      "                  'ledindication': False,\n",
      "                  'on': True,\n",
      "                  'pending': [],\n",
      "                  'reachable': True,\n",
      "                  'usertest': False},\n",
      "       'manufacturername': 'Philips',\n",
      "       'modelid': 'SML001',\n",
      "       'name': 'Hue temperature sensor 1',\n",
      "       'state': {'lastupdated': '2017-10-07T07:11:49', 'temperature': 1800},\n",
      "       'swupdate': {'lastinstall': None, 'state': 'noupdates'},\n",
      "       'swversion': '6.1.0.18912',\n",
      "       'type': 'ZLLTemperature',\n",
      "       'uniqueid': '00:17:88:01:02:00:af:28-02-0402'},\n",
      " '5': {'config': {'alert': 'none',\n",
      "                  'battery': 100,\n",
      "                  'ledindication': False,\n",
      "                  'on': True,\n",
      "                  'pending': [],\n",
      "                  'reachable': True,\n",
      "                  'sensitivity': 2,\n",
      "                  'sensitivitymax': 2,\n",
      "                  'usertest': False},\n",
      "       'manufacturername': 'Philips',\n",
      "       'modelid': 'SML001',\n",
      "       'name': 'Hall Sensor',\n",
      "       'state': {'lastupdated': '2017-10-07T07:09:45', 'presence': False},\n",
      "       'swupdate': {'lastinstall': None, 'state': 'noupdates'},\n",
      "       'swversion': '6.1.0.18912',\n",
      "       'type': 'ZLLPresence',\n",
      "       'uniqueid': '00:17:88:01:02:00:af:28-02-0406'},\n",
      " '6': {'config': {'alert': 'none',\n",
      "                  'battery': 100,\n",
      "                  'ledindication': False,\n",
      "                  'on': True,\n",
      "                  'pending': [],\n",
      "                  'reachable': True,\n",
      "                  'tholddark': 16000,\n",
      "                  'tholdoffset': 7000,\n",
      "                  'usertest': False},\n",
      "       'manufacturername': 'Philips',\n",
      "       'modelid': 'SML001',\n",
      "       'name': 'Hue ambient light sensor 1',\n",
      "       'state': {'dark': True,\n",
      "                 'daylight': False,\n",
      "                 'lastupdated': '2017-10-07T07:14:45',\n",
      "                 'lightlevel': 0},\n",
      "       'swupdate': {'lastinstall': None, 'state': 'noupdates'},\n",
      "       'swversion': '6.1.0.18912',\n",
      "       'type': 'ZLLLightLevel',\n",
      "       'uniqueid': '00:17:88:01:02:00:af:28-02-0400'},\n",
      " '7': {'config': {'on': True, 'reachable': True},\n",
      "       'manufacturername': 'Philips',\n",
      "       'modelid': 'PHA_STATE',\n",
      "       'name': 'MotionSensor 5.Companion',\n",
      "       'recycle': True,\n",
      "       'state': {'lastupdated': '2017-10-07T07:10:30', 'status': 0},\n",
      "       'swversion': '1.0',\n",
      "       'type': 'CLIPGenericStatus',\n",
      "       'uniqueid': 'MotionSensor 5.Companion'},\n",
      " '8': {'config': {'alert': 'none',\n",
      "                  'battery': 100,\n",
      "                  'ledindication': False,\n",
      "                  'on': True,\n",
      "                  'pending': [],\n",
      "                  'reachable': True,\n",
      "                  'usertest': False},\n",
      "       'manufacturername': 'Philips',\n",
      "       'modelid': 'SML001',\n",
      "       'name': 'Hue temperature sensor 2',\n",
      "       'state': {'lastupdated': '2017-10-07T07:12:31', 'temperature': 1988},\n",
      "       'swupdate': {'lastinstall': None, 'state': 'noupdates'},\n",
      "       'swversion': '6.1.0.18912',\n",
      "       'type': 'ZLLTemperature',\n",
      "       'uniqueid': '00:17:88:01:02:00:b5:ce-02-0402'},\n",
      " '9': {'config': {'alert': 'none',\n",
      "                  'battery': 100,\n",
      "                  'ledindication': False,\n",
      "                  'on': True,\n",
      "                  'pending': [],\n",
      "                  'reachable': True,\n",
      "                  'sensitivity': 2,\n",
      "                  'sensitivitymax': 2,\n",
      "                  'usertest': False},\n",
      "       'manufacturername': 'Philips',\n",
      "       'modelid': 'SML001',\n",
      "       'name': 'Bedroom sensor',\n",
      "       'state': {'lastupdated': '2017-10-07T07:08:50', 'presence': False},\n",
      "       'swupdate': {'lastinstall': None, 'state': 'noupdates'},\n",
      "       'swversion': '6.1.0.18912',\n",
      "       'type': 'ZLLPresence',\n",
      "       'uniqueid': '00:17:88:01:02:00:b5:ce-02-0406'}}\n"
     ]
    },
    {
     "data": {
      "text/plain": [
       "True"
      ]
     },
     "execution_count": 4,
     "metadata": {},
     "output_type": "execute_result"
    }
   ],
   "source": [
    "print_json(response)"
   ]
  },
  {
   "cell_type": "markdown",
   "metadata": {},
   "source": [
    "Lets save the data for convenience."
   ]
  },
  {
   "cell_type": "code",
   "execution_count": 5,
   "metadata": {},
   "outputs": [
    {
     "data": {
      "text/plain": [
       "True"
      ]
     },
     "execution_count": 5,
     "metadata": {},
     "output_type": "execute_result"
    }
   ],
   "source": [
    "save_response(response)"
   ]
  },
  {
   "cell_type": "code",
   "execution_count": 6,
   "metadata": {
    "collapsed": true
   },
   "outputs": [],
   "source": [
    "data = parse_hue_api_response(response)"
   ]
  },
  {
   "cell_type": "code",
   "execution_count": 7,
   "metadata": {},
   "outputs": [
    {
     "data": {
      "text/plain": [
       "{'Geofence': {'model': 'Geofence', 'name': 'Robins iPhone', 'state': 'on'},\n",
       " 'RWL_1e-02': {'battery': 100,\n",
       "  'last_updated': ['2017-10-07', '06:30:28'],\n",
       "  'model': 'Remote',\n",
       "  'name': 'Living room remote',\n",
       "  'state': '2_click'},\n",
       " 'RWL_9c-02': {'battery': 100,\n",
       "  'last_updated': ['2017-10-04', '06:04:54'],\n",
       "  'model': 'Remote',\n",
       "  'name': 'Hall remote',\n",
       "  'state': '1_hold'},\n",
       " 'RWL_dc-02': {'battery': 100,\n",
       "  'last_updated': ['2017-10-07', '07:08:37'],\n",
       "  'model': 'Remote',\n",
       "  'name': 'Remote bedroom',\n",
       "  'state': '4_click'},\n",
       " 'SML_28-02': {'battery': 100,\n",
       "  'dark': True,\n",
       "  'daylight': False,\n",
       "  'light_level': 0,\n",
       "  'lux': 1.0,\n",
       "  'model': 'Motion',\n",
       "  'name': 'Hall motion Sensor',\n",
       "  'state': 'off',\n",
       "  'temperature': 18.0},\n",
       " 'SML_9c-02': {'battery': 100,\n",
       "  'dark': True,\n",
       "  'daylight': False,\n",
       "  'light_level': 7144,\n",
       "  'lux': 5.18,\n",
       "  'model': 'Motion',\n",
       "  'name': 'Living room motion sensor',\n",
       "  'state': 'off',\n",
       "  'temperature': 21.38},\n",
       " 'SML_ce-02': {'battery': 100,\n",
       "  'dark': True,\n",
       "  'daylight': False,\n",
       "  'light_level': 4895,\n",
       "  'lux': 3.09,\n",
       "  'model': 'Motion',\n",
       "  'name': 'Bedroom motion sensor',\n",
       "  'state': 'off',\n",
       "  'temperature': 19.88}}"
      ]
     },
     "execution_count": 7,
     "metadata": {},
     "output_type": "execute_result"
    }
   ],
   "source": [
    "data"
   ]
  },
  {
   "cell_type": "markdown",
   "metadata": {},
   "source": [
    "### Dev work"
   ]
  },
  {
   "cell_type": "code",
   "execution_count": 8,
   "metadata": {
    "collapsed": true
   },
   "outputs": [],
   "source": [
    "lightlevel = 32949"
   ]
  },
  {
   "cell_type": "code",
   "execution_count": 9,
   "metadata": {
    "collapsed": true
   },
   "outputs": [],
   "source": [
    "lux = round(float(10**((lightlevel-1)/10000)),2)"
   ]
  },
  {
   "cell_type": "code",
   "execution_count": 10,
   "metadata": {},
   "outputs": [
    {
     "data": {
      "text/plain": [
       "1971.51"
      ]
     },
     "execution_count": 10,
     "metadata": {},
     "output_type": "execute_result"
    }
   ],
   "source": [
    "lux"
   ]
  },
  {
   "cell_type": "code",
   "execution_count": null,
   "metadata": {
    "collapsed": true
   },
   "outputs": [],
   "source": []
  }
 ],
 "metadata": {
  "kernelspec": {
   "display_name": "Python 3",
   "language": "python",
   "name": "python3"
  },
  "language_info": {
   "codemirror_mode": {
    "name": "ipython",
    "version": 3
   },
   "file_extension": ".py",
   "mimetype": "text/x-python",
   "name": "python",
   "nbconvert_exporter": "python",
   "pygments_lexer": "ipython3",
   "version": "3.6.2"
  }
 },
 "nbformat": 4,
 "nbformat_minor": 2
}
